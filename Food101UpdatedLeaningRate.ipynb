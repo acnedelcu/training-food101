{
  "nbformat": 4,
  "nbformat_minor": 0,
  "metadata": {
    "colab": {
      "provenance": [],
      "machine_shape": "hm",
      "gpuType": "A100"
    },
    "kernelspec": {
      "name": "python3",
      "display_name": "Python 3"
    },
    "language_info": {
      "name": "python"
    },
    "accelerator": "GPU"
  },
  "cells": [
    {
      "cell_type": "code",
      "source": [
        "!pip install torch torchvision -U"
      ],
      "metadata": {
        "colab": {
          "base_uri": "https://localhost:8080/"
        },
        "id": "OXb-yoTv1cbd",
        "outputId": "dc5b6d93-a40b-40c4-bdb3-4d06a57edd45"
      },
      "execution_count": 2,
      "outputs": [
        {
          "output_type": "stream",
          "name": "stdout",
          "text": [
            "Requirement already satisfied: torch in /usr/local/lib/python3.10/dist-packages (2.2.1+cu121)\n",
            "Collecting torch\n",
            "  Downloading torch-2.2.2-cp310-cp310-manylinux1_x86_64.whl (755.5 MB)\n",
            "\u001b[2K     \u001b[90m━━━━━━━━━━━━━━━━━━━━━━━━━━━━━━━━━━━━━━━━\u001b[0m \u001b[32m755.5/755.5 MB\u001b[0m \u001b[31m1.6 MB/s\u001b[0m eta \u001b[36m0:00:00\u001b[0m\n",
            "\u001b[?25hRequirement already satisfied: torchvision in /usr/local/lib/python3.10/dist-packages (0.17.1+cu121)\n",
            "Collecting torchvision\n",
            "  Downloading torchvision-0.17.2-cp310-cp310-manylinux1_x86_64.whl (6.9 MB)\n",
            "\u001b[2K     \u001b[90m━━━━━━━━━━━━━━━━━━━━━━━━━━━━━━━━━━━━━━━━\u001b[0m \u001b[32m6.9/6.9 MB\u001b[0m \u001b[31m96.3 MB/s\u001b[0m eta \u001b[36m0:00:00\u001b[0m\n",
            "\u001b[?25hRequirement already satisfied: filelock in /usr/local/lib/python3.10/dist-packages (from torch) (3.13.4)\n",
            "Requirement already satisfied: typing-extensions>=4.8.0 in /usr/local/lib/python3.10/dist-packages (from torch) (4.11.0)\n",
            "Requirement already satisfied: sympy in /usr/local/lib/python3.10/dist-packages (from torch) (1.12)\n",
            "Requirement already satisfied: networkx in /usr/local/lib/python3.10/dist-packages (from torch) (3.3)\n",
            "Requirement already satisfied: jinja2 in /usr/local/lib/python3.10/dist-packages (from torch) (3.1.3)\n",
            "Requirement already satisfied: fsspec in /usr/local/lib/python3.10/dist-packages (from torch) (2023.6.0)\n",
            "Collecting nvidia-cuda-nvrtc-cu12==12.1.105 (from torch)\n",
            "  Using cached nvidia_cuda_nvrtc_cu12-12.1.105-py3-none-manylinux1_x86_64.whl (23.7 MB)\n",
            "Collecting nvidia-cuda-runtime-cu12==12.1.105 (from torch)\n",
            "  Using cached nvidia_cuda_runtime_cu12-12.1.105-py3-none-manylinux1_x86_64.whl (823 kB)\n",
            "Collecting nvidia-cuda-cupti-cu12==12.1.105 (from torch)\n",
            "  Using cached nvidia_cuda_cupti_cu12-12.1.105-py3-none-manylinux1_x86_64.whl (14.1 MB)\n",
            "Collecting nvidia-cudnn-cu12==8.9.2.26 (from torch)\n",
            "  Using cached nvidia_cudnn_cu12-8.9.2.26-py3-none-manylinux1_x86_64.whl (731.7 MB)\n",
            "Collecting nvidia-cublas-cu12==12.1.3.1 (from torch)\n",
            "  Using cached nvidia_cublas_cu12-12.1.3.1-py3-none-manylinux1_x86_64.whl (410.6 MB)\n",
            "Collecting nvidia-cufft-cu12==11.0.2.54 (from torch)\n",
            "  Using cached nvidia_cufft_cu12-11.0.2.54-py3-none-manylinux1_x86_64.whl (121.6 MB)\n",
            "Collecting nvidia-curand-cu12==10.3.2.106 (from torch)\n",
            "  Using cached nvidia_curand_cu12-10.3.2.106-py3-none-manylinux1_x86_64.whl (56.5 MB)\n",
            "Collecting nvidia-cusolver-cu12==11.4.5.107 (from torch)\n",
            "  Using cached nvidia_cusolver_cu12-11.4.5.107-py3-none-manylinux1_x86_64.whl (124.2 MB)\n",
            "Collecting nvidia-cusparse-cu12==12.1.0.106 (from torch)\n",
            "  Using cached nvidia_cusparse_cu12-12.1.0.106-py3-none-manylinux1_x86_64.whl (196.0 MB)\n",
            "Collecting nvidia-nccl-cu12==2.19.3 (from torch)\n",
            "  Using cached nvidia_nccl_cu12-2.19.3-py3-none-manylinux1_x86_64.whl (166.0 MB)\n",
            "Collecting nvidia-nvtx-cu12==12.1.105 (from torch)\n",
            "  Using cached nvidia_nvtx_cu12-12.1.105-py3-none-manylinux1_x86_64.whl (99 kB)\n",
            "Requirement already satisfied: triton==2.2.0 in /usr/local/lib/python3.10/dist-packages (from torch) (2.2.0)\n",
            "Collecting nvidia-nvjitlink-cu12 (from nvidia-cusolver-cu12==11.4.5.107->torch)\n",
            "  Using cached nvidia_nvjitlink_cu12-12.4.127-py3-none-manylinux2014_x86_64.whl (21.1 MB)\n",
            "Requirement already satisfied: numpy in /usr/local/lib/python3.10/dist-packages (from torchvision) (1.25.2)\n",
            "Requirement already satisfied: pillow!=8.3.*,>=5.3.0 in /usr/local/lib/python3.10/dist-packages (from torchvision) (9.4.0)\n",
            "Requirement already satisfied: MarkupSafe>=2.0 in /usr/local/lib/python3.10/dist-packages (from jinja2->torch) (2.1.5)\n",
            "Requirement already satisfied: mpmath>=0.19 in /usr/local/lib/python3.10/dist-packages (from sympy->torch) (1.3.0)\n",
            "Installing collected packages: nvidia-nvtx-cu12, nvidia-nvjitlink-cu12, nvidia-nccl-cu12, nvidia-curand-cu12, nvidia-cufft-cu12, nvidia-cuda-runtime-cu12, nvidia-cuda-nvrtc-cu12, nvidia-cuda-cupti-cu12, nvidia-cublas-cu12, nvidia-cusparse-cu12, nvidia-cudnn-cu12, nvidia-cusolver-cu12, torch, torchvision\n",
            "  Attempting uninstall: torch\n",
            "    Found existing installation: torch 2.2.1+cu121\n",
            "    Uninstalling torch-2.2.1+cu121:\n",
            "      Successfully uninstalled torch-2.2.1+cu121\n",
            "  Attempting uninstall: torchvision\n",
            "    Found existing installation: torchvision 0.17.1+cu121\n",
            "    Uninstalling torchvision-0.17.1+cu121:\n",
            "      Successfully uninstalled torchvision-0.17.1+cu121\n",
            "\u001b[31mERROR: pip's dependency resolver does not currently take into account all the packages that are installed. This behaviour is the source of the following dependency conflicts.\n",
            "torchaudio 2.2.1+cu121 requires torch==2.2.1, but you have torch 2.2.2 which is incompatible.\n",
            "torchtext 0.17.1 requires torch==2.2.1, but you have torch 2.2.2 which is incompatible.\u001b[0m\u001b[31m\n",
            "\u001b[0mSuccessfully installed nvidia-cublas-cu12-12.1.3.1 nvidia-cuda-cupti-cu12-12.1.105 nvidia-cuda-nvrtc-cu12-12.1.105 nvidia-cuda-runtime-cu12-12.1.105 nvidia-cudnn-cu12-8.9.2.26 nvidia-cufft-cu12-11.0.2.54 nvidia-curand-cu12-10.3.2.106 nvidia-cusolver-cu12-11.4.5.107 nvidia-cusparse-cu12-12.1.0.106 nvidia-nccl-cu12-2.19.3 nvidia-nvjitlink-cu12-12.4.127 nvidia-nvtx-cu12-12.1.105 torch-2.2.2 torchvision-0.17.2\n"
          ]
        }
      ]
    },
    {
      "cell_type": "code",
      "source": [
        "!pip install torchinfo"
      ],
      "metadata": {
        "colab": {
          "base_uri": "https://localhost:8080/"
        },
        "id": "5r75DEbx1Zb_",
        "outputId": "26480a8d-fc3e-4f2c-e4b7-415f9fde6df7"
      },
      "execution_count": 3,
      "outputs": [
        {
          "output_type": "stream",
          "name": "stdout",
          "text": [
            "Collecting torchinfo\n",
            "  Downloading torchinfo-1.8.0-py3-none-any.whl (23 kB)\n",
            "Installing collected packages: torchinfo\n",
            "Successfully installed torchinfo-1.8.0\n"
          ]
        }
      ]
    },
    {
      "cell_type": "code",
      "execution_count": 4,
      "metadata": {
        "id": "c-w0Ib6lTWC3"
      },
      "outputs": [],
      "source": [
        "import torch\n",
        "import torchvision\n",
        "import torchvision.transforms as transforms\n",
        "from torchvision import datasets, models, transforms\n",
        "import torch.nn as nn\n",
        "import torch.optim as optim\n",
        "from torch.optim import lr_scheduler"
      ]
    },
    {
      "cell_type": "code",
      "source": [
        "print(f'Torch version: {torch.__version__}')"
      ],
      "metadata": {
        "colab": {
          "base_uri": "https://localhost:8080/"
        },
        "id": "cUm3nLF1TjTT",
        "outputId": "a9d2bd13-1423-4a8f-c16b-b1db0aabd121"
      },
      "execution_count": 5,
      "outputs": [
        {
          "output_type": "stream",
          "name": "stdout",
          "text": [
            "Torch version: 2.2.2+cu121\n"
          ]
        }
      ]
    },
    {
      "cell_type": "code",
      "source": [
        "from google.colab import drive\n",
        "drive.mount('/content/drive')"
      ],
      "metadata": {
        "colab": {
          "base_uri": "https://localhost:8080/"
        },
        "id": "BSgB9HvJpNIg",
        "outputId": "6bb0ae1c-ae8d-4fd2-90e3-5d6960f494c6"
      },
      "execution_count": 6,
      "outputs": [
        {
          "output_type": "stream",
          "name": "stdout",
          "text": [
            "Mounted at /content/drive\n"
          ]
        }
      ]
    },
    {
      "cell_type": "code",
      "source": [
        "# mean and std according to https://pytorch.org/vision/main/models/generated/torchvision.models.resnet34.html\n",
        "mean = [0.485, 0.456, 0.406]\n",
        "std = [0.229, 0.224, 0.225]"
      ],
      "metadata": {
        "id": "EPGIfjQcnRmH"
      },
      "execution_count": 7,
      "outputs": []
    },
    {
      "cell_type": "code",
      "source": [
        "train_transform = transforms.Compose([\n",
        "                                transforms.Resize(256),\n",
        "                                transforms.RandomResizedCrop(224),\n",
        "                                transforms.RandomHorizontalFlip(),\n",
        "                                transforms.ToTensor(),\n",
        "                                transforms.Normalize(mean, std)])\n",
        "\n",
        "test_transform = transforms.Compose([\n",
        "                                transforms.Resize(256),\n",
        "                                transforms.CenterCrop(224),\n",
        "                                transforms.ToTensor(),\n",
        "                                transforms.Normalize(mean, std)])"
      ],
      "metadata": {
        "id": "Di9eFHVvo1tE"
      },
      "execution_count": 8,
      "outputs": []
    },
    {
      "cell_type": "code",
      "source": [
        "trainset = torchvision.datasets.Food101(root='./drive/My Drive/food101/datasets',\n",
        "                                        split ='train',\n",
        "                                        download=True,\n",
        "                                        transform=train_transform)"
      ],
      "metadata": {
        "id": "MhzygA7Fo7Um",
        "colab": {
          "base_uri": "https://localhost:8080/"
        },
        "outputId": "4b24d48c-0281-42f8-c0ca-9dce0c333b36"
      },
      "execution_count": 31,
      "outputs": [
        {
          "output_type": "stream",
          "name": "stdout",
          "text": [
            "Downloading https://data.vision.ee.ethz.ch/cvl/food-101.tar.gz to ./drive/My Drive/food101/datasets/food-101.tar.gz\n"
          ]
        },
        {
          "output_type": "stream",
          "name": "stderr",
          "text": [
            "100%|██████████| 4996278331/4996278331 [04:51<00:00, 17147135.95it/s]\n"
          ]
        },
        {
          "output_type": "stream",
          "name": "stdout",
          "text": [
            "Extracting ./drive/My Drive/food101/datasets/food-101.tar.gz to ./drive/My Drive/food101/datasets\n"
          ]
        }
      ]
    },
    {
      "cell_type": "code",
      "source": [
        "testset = torchvision.datasets.Food101(root='./drive/My Drive/food101/datasets',\n",
        "                                       split='test',\n",
        "                                       download=True,\n",
        "                                       transform=train_transform)"
      ],
      "metadata": {
        "id": "G2zq1TjMppbH"
      },
      "execution_count": 32,
      "outputs": []
    },
    {
      "cell_type": "code",
      "source": [
        "batch_size = 1000\n",
        "num_workers = 4"
      ],
      "metadata": {
        "id": "2b94HK2pqfIQ"
      },
      "execution_count": 33,
      "outputs": []
    },
    {
      "cell_type": "code",
      "source": [
        "trainloader = torch.utils.data.DataLoader(trainset,\n",
        "                                          batch_size=batch_size,\n",
        "                                          shuffle=True,\n",
        "                                          num_workers=num_workers)"
      ],
      "metadata": {
        "id": "ppbs4p_aqmyo"
      },
      "execution_count": 34,
      "outputs": []
    },
    {
      "cell_type": "code",
      "source": [
        "testloader = torch.utils.data.DataLoader(testset,\n",
        "                                         batch_size=batch_size,\n",
        "                                         shuffle=False,\n",
        "                                         num_workers=num_workers)"
      ],
      "metadata": {
        "id": "lzmBKJR90iW8"
      },
      "execution_count": 35,
      "outputs": []
    },
    {
      "cell_type": "code",
      "source": [
        "print(trainset.classes)"
      ],
      "metadata": {
        "colab": {
          "base_uri": "https://localhost:8080/"
        },
        "id": "_k5dVSUC0VtY",
        "outputId": "160e0752-31d1-4e44-c34d-0346051f5ff0"
      },
      "execution_count": 36,
      "outputs": [
        {
          "output_type": "stream",
          "name": "stdout",
          "text": [
            "['apple_pie', 'baby_back_ribs', 'baklava', 'beef_carpaccio', 'beef_tartare', 'beet_salad', 'beignets', 'bibimbap', 'bread_pudding', 'breakfast_burrito', 'bruschetta', 'caesar_salad', 'cannoli', 'caprese_salad', 'carrot_cake', 'ceviche', 'cheese_plate', 'cheesecake', 'chicken_curry', 'chicken_quesadilla', 'chicken_wings', 'chocolate_cake', 'chocolate_mousse', 'churros', 'clam_chowder', 'club_sandwich', 'crab_cakes', 'creme_brulee', 'croque_madame', 'cup_cakes', 'deviled_eggs', 'donuts', 'dumplings', 'edamame', 'eggs_benedict', 'escargots', 'falafel', 'filet_mignon', 'fish_and_chips', 'foie_gras', 'french_fries', 'french_onion_soup', 'french_toast', 'fried_calamari', 'fried_rice', 'frozen_yogurt', 'garlic_bread', 'gnocchi', 'greek_salad', 'grilled_cheese_sandwich', 'grilled_salmon', 'guacamole', 'gyoza', 'hamburger', 'hot_and_sour_soup', 'hot_dog', 'huevos_rancheros', 'hummus', 'ice_cream', 'lasagna', 'lobster_bisque', 'lobster_roll_sandwich', 'macaroni_and_cheese', 'macarons', 'miso_soup', 'mussels', 'nachos', 'omelette', 'onion_rings', 'oysters', 'pad_thai', 'paella', 'pancakes', 'panna_cotta', 'peking_duck', 'pho', 'pizza', 'pork_chop', 'poutine', 'prime_rib', 'pulled_pork_sandwich', 'ramen', 'ravioli', 'red_velvet_cake', 'risotto', 'samosa', 'sashimi', 'scallops', 'seaweed_salad', 'shrimp_and_grits', 'spaghetti_bolognese', 'spaghetti_carbonara', 'spring_rolls', 'steak', 'strawberry_shortcake', 'sushi', 'tacos', 'takoyaki', 'tiramisu', 'tuna_tartare', 'waffles']\n"
          ]
        }
      ]
    },
    {
      "cell_type": "code",
      "source": [
        "model = models.resnet34(pretrained=True)"
      ],
      "metadata": {
        "id": "01Sy5bWe07GB"
      },
      "execution_count": 37,
      "outputs": []
    },
    {
      "cell_type": "code",
      "source": [
        "from torchinfo import summary\n",
        "summary(model)"
      ],
      "metadata": {
        "colab": {
          "base_uri": "https://localhost:8080/"
        },
        "id": "mDeQKwGe1SY1",
        "outputId": "e0f0f4cc-58ea-492e-b306-b985b571484f"
      },
      "execution_count": 38,
      "outputs": [
        {
          "output_type": "execute_result",
          "data": {
            "text/plain": [
              "=================================================================\n",
              "Layer (type:depth-idx)                   Param #\n",
              "=================================================================\n",
              "ResNet                                   --\n",
              "├─Conv2d: 1-1                            9,408\n",
              "├─BatchNorm2d: 1-2                       128\n",
              "├─ReLU: 1-3                              --\n",
              "├─MaxPool2d: 1-4                         --\n",
              "├─Sequential: 1-5                        --\n",
              "│    └─BasicBlock: 2-1                   --\n",
              "│    │    └─Conv2d: 3-1                  36,864\n",
              "│    │    └─BatchNorm2d: 3-2             128\n",
              "│    │    └─ReLU: 3-3                    --\n",
              "│    │    └─Conv2d: 3-4                  36,864\n",
              "│    │    └─BatchNorm2d: 3-5             128\n",
              "│    └─BasicBlock: 2-2                   --\n",
              "│    │    └─Conv2d: 3-6                  36,864\n",
              "│    │    └─BatchNorm2d: 3-7             128\n",
              "│    │    └─ReLU: 3-8                    --\n",
              "│    │    └─Conv2d: 3-9                  36,864\n",
              "│    │    └─BatchNorm2d: 3-10            128\n",
              "│    └─BasicBlock: 2-3                   --\n",
              "│    │    └─Conv2d: 3-11                 36,864\n",
              "│    │    └─BatchNorm2d: 3-12            128\n",
              "│    │    └─ReLU: 3-13                   --\n",
              "│    │    └─Conv2d: 3-14                 36,864\n",
              "│    │    └─BatchNorm2d: 3-15            128\n",
              "├─Sequential: 1-6                        --\n",
              "│    └─BasicBlock: 2-4                   --\n",
              "│    │    └─Conv2d: 3-16                 73,728\n",
              "│    │    └─BatchNorm2d: 3-17            256\n",
              "│    │    └─ReLU: 3-18                   --\n",
              "│    │    └─Conv2d: 3-19                 147,456\n",
              "│    │    └─BatchNorm2d: 3-20            256\n",
              "│    │    └─Sequential: 3-21             8,448\n",
              "│    └─BasicBlock: 2-5                   --\n",
              "│    │    └─Conv2d: 3-22                 147,456\n",
              "│    │    └─BatchNorm2d: 3-23            256\n",
              "│    │    └─ReLU: 3-24                   --\n",
              "│    │    └─Conv2d: 3-25                 147,456\n",
              "│    │    └─BatchNorm2d: 3-26            256\n",
              "│    └─BasicBlock: 2-6                   --\n",
              "│    │    └─Conv2d: 3-27                 147,456\n",
              "│    │    └─BatchNorm2d: 3-28            256\n",
              "│    │    └─ReLU: 3-29                   --\n",
              "│    │    └─Conv2d: 3-30                 147,456\n",
              "│    │    └─BatchNorm2d: 3-31            256\n",
              "│    └─BasicBlock: 2-7                   --\n",
              "│    │    └─Conv2d: 3-32                 147,456\n",
              "│    │    └─BatchNorm2d: 3-33            256\n",
              "│    │    └─ReLU: 3-34                   --\n",
              "│    │    └─Conv2d: 3-35                 147,456\n",
              "│    │    └─BatchNorm2d: 3-36            256\n",
              "├─Sequential: 1-7                        --\n",
              "│    └─BasicBlock: 2-8                   --\n",
              "│    │    └─Conv2d: 3-37                 294,912\n",
              "│    │    └─BatchNorm2d: 3-38            512\n",
              "│    │    └─ReLU: 3-39                   --\n",
              "│    │    └─Conv2d: 3-40                 589,824\n",
              "│    │    └─BatchNorm2d: 3-41            512\n",
              "│    │    └─Sequential: 3-42             33,280\n",
              "│    └─BasicBlock: 2-9                   --\n",
              "│    │    └─Conv2d: 3-43                 589,824\n",
              "│    │    └─BatchNorm2d: 3-44            512\n",
              "│    │    └─ReLU: 3-45                   --\n",
              "│    │    └─Conv2d: 3-46                 589,824\n",
              "│    │    └─BatchNorm2d: 3-47            512\n",
              "│    └─BasicBlock: 2-10                  --\n",
              "│    │    └─Conv2d: 3-48                 589,824\n",
              "│    │    └─BatchNorm2d: 3-49            512\n",
              "│    │    └─ReLU: 3-50                   --\n",
              "│    │    └─Conv2d: 3-51                 589,824\n",
              "│    │    └─BatchNorm2d: 3-52            512\n",
              "│    └─BasicBlock: 2-11                  --\n",
              "│    │    └─Conv2d: 3-53                 589,824\n",
              "│    │    └─BatchNorm2d: 3-54            512\n",
              "│    │    └─ReLU: 3-55                   --\n",
              "│    │    └─Conv2d: 3-56                 589,824\n",
              "│    │    └─BatchNorm2d: 3-57            512\n",
              "│    └─BasicBlock: 2-12                  --\n",
              "│    │    └─Conv2d: 3-58                 589,824\n",
              "│    │    └─BatchNorm2d: 3-59            512\n",
              "│    │    └─ReLU: 3-60                   --\n",
              "│    │    └─Conv2d: 3-61                 589,824\n",
              "│    │    └─BatchNorm2d: 3-62            512\n",
              "│    └─BasicBlock: 2-13                  --\n",
              "│    │    └─Conv2d: 3-63                 589,824\n",
              "│    │    └─BatchNorm2d: 3-64            512\n",
              "│    │    └─ReLU: 3-65                   --\n",
              "│    │    └─Conv2d: 3-66                 589,824\n",
              "│    │    └─BatchNorm2d: 3-67            512\n",
              "├─Sequential: 1-8                        --\n",
              "│    └─BasicBlock: 2-14                  --\n",
              "│    │    └─Conv2d: 3-68                 1,179,648\n",
              "│    │    └─BatchNorm2d: 3-69            1,024\n",
              "│    │    └─ReLU: 3-70                   --\n",
              "│    │    └─Conv2d: 3-71                 2,359,296\n",
              "│    │    └─BatchNorm2d: 3-72            1,024\n",
              "│    │    └─Sequential: 3-73             132,096\n",
              "│    └─BasicBlock: 2-15                  --\n",
              "│    │    └─Conv2d: 3-74                 2,359,296\n",
              "│    │    └─BatchNorm2d: 3-75            1,024\n",
              "│    │    └─ReLU: 3-76                   --\n",
              "│    │    └─Conv2d: 3-77                 2,359,296\n",
              "│    │    └─BatchNorm2d: 3-78            1,024\n",
              "│    └─BasicBlock: 2-16                  --\n",
              "│    │    └─Conv2d: 3-79                 2,359,296\n",
              "│    │    └─BatchNorm2d: 3-80            1,024\n",
              "│    │    └─ReLU: 3-81                   --\n",
              "│    │    └─Conv2d: 3-82                 2,359,296\n",
              "│    │    └─BatchNorm2d: 3-83            1,024\n",
              "├─AdaptiveAvgPool2d: 1-9                 --\n",
              "├─Linear: 1-10                           513,000\n",
              "=================================================================\n",
              "Total params: 21,797,672\n",
              "Trainable params: 21,797,672\n",
              "Non-trainable params: 0\n",
              "================================================================="
            ]
          },
          "metadata": {},
          "execution_count": 38
        }
      ]
    },
    {
      "cell_type": "code",
      "source": [
        "num_features = model.fc.in_features\n",
        "print(f'The number of features on the pretrained model: {num_features}')"
      ],
      "metadata": {
        "colab": {
          "base_uri": "https://localhost:8080/"
        },
        "id": "KzJ_FEtc1zIW",
        "outputId": "05ae1302-5cd6-4c36-a0fe-157b987c9c68"
      },
      "execution_count": 39,
      "outputs": [
        {
          "output_type": "stream",
          "name": "stdout",
          "text": [
            "The number of features on the pretrained model: 512\n"
          ]
        }
      ]
    },
    {
      "cell_type": "code",
      "source": [
        "num_food_classes = len(trainset.classes)\n",
        "model.fc = nn.Linear(num_features, num_food_classes)"
      ],
      "metadata": {
        "id": "chksHcv-2GwO"
      },
      "execution_count": 40,
      "outputs": []
    },
    {
      "cell_type": "code",
      "source": [
        "learning_rate = 0.0001\n",
        "optimizer = optim.Adam(model.parameters(),\n",
        "                       lr=learning_rate)"
      ],
      "metadata": {
        "id": "9BKCXLZ6UMHs"
      },
      "execution_count": 41,
      "outputs": []
    },
    {
      "cell_type": "code",
      "source": [
        "exp_lr_scheduler = lr_scheduler.StepLR(optimizer,\n",
        "                                       step_size=10,\n",
        "                                       gamma=0.9)"
      ],
      "metadata": {
        "id": "IiLrK9cL2zgR"
      },
      "execution_count": 42,
      "outputs": []
    },
    {
      "cell_type": "code",
      "source": [
        "criterion = nn.CrossEntropyLoss()"
      ],
      "metadata": {
        "id": "Brb3ezvb3Flg"
      },
      "execution_count": 43,
      "outputs": []
    },
    {
      "cell_type": "code",
      "source": [
        "device = 'cuda' if torch.cuda.is_available() else 'cpu'\n",
        "device"
      ],
      "metadata": {
        "colab": {
          "base_uri": "https://localhost:8080/",
          "height": 35
        },
        "id": "6xgkxUG43RV7",
        "outputId": "1ca2b155-dab3-455b-ec9c-3fc387b4901a"
      },
      "execution_count": 44,
      "outputs": [
        {
          "output_type": "execute_result",
          "data": {
            "text/plain": [
              "'cuda'"
            ],
            "application/vnd.google.colaboratory.intrinsic+json": {
              "type": "string"
            }
          },
          "metadata": {},
          "execution_count": 44
        }
      ]
    },
    {
      "cell_type": "code",
      "source": [
        "def compute_average_validation_loss_and_accuracy(model,\n",
        "                                    testloader,\n",
        "                                    criterion,\n",
        "                                    device):\n",
        "  model.eval()\n",
        "  val_loss = 0.0\n",
        "  correct= 0\n",
        "  total = 0\n",
        "  with torch.no_grad():\n",
        "    for inputs, labels in testloader:\n",
        "      inputs, labels = inputs.to(device), labels.to(device)\n",
        "\n",
        "      outputs = model(inputs)\n",
        "      loss = criterion(outputs, labels)\n",
        "      val_loss += loss.item() * inputs.size(0)\n",
        "\n",
        "      _, predicted = torch.max(outputs, 1)\n",
        "      total += labels.size(0)\n",
        "      correct += (predicted == labels).sum().item()\n",
        "  average_val_loss = val_loss / len(testloader.dataset)\n",
        "  accuracy = correct/total\n",
        "  return (average_val_loss, accuracy)"
      ],
      "metadata": {
        "id": "ttNe7Xt4bY96"
      },
      "execution_count": 45,
      "outputs": []
    },
    {
      "cell_type": "code",
      "source": [
        "def show_loss_and_accuracy_details(epoch_number,\n",
        "                                   total_number_epochs,\n",
        "                                   average_val_loss,\n",
        "                                   accuracy):\n",
        "  print(f'Epoch [{epoch+1}/{total_number_epochs}], Validation Loss: {average_val_loss:.4f}, Accuracy: {accuracy:.4f}')"
      ],
      "metadata": {
        "id": "CnTc15OBPH3G"
      },
      "execution_count": 46,
      "outputs": []
    },
    {
      "cell_type": "code",
      "source": [
        "def save_checkpoint_model(epoch,\n",
        "                          model_state_dict,\n",
        "                          optimizer_state_dict,\n",
        "                          loss,\n",
        "                          checkpoint_path):\n",
        "  checkpoint_path = f'{checkpoint_path}model{epoch}.pt'\n",
        "  torch.save({\n",
        "      'epoch': epoch,\n",
        "      'model_state_dict': model_state_dict,\n",
        "      'optimizer_state_dict': optimizer_state_dict,\n",
        "      'loss': loss\n",
        "  }, checkpoint_path)"
      ],
      "metadata": {
        "id": "GwI4N5m-jAgB"
      },
      "execution_count": 47,
      "outputs": []
    },
    {
      "cell_type": "code",
      "source": [
        "checkpoint_path = './drive/My Drive/food101/checkpoints/'"
      ],
      "metadata": {
        "id": "LlcCQWyWiQm9"
      },
      "execution_count": 48,
      "outputs": []
    },
    {
      "cell_type": "code",
      "source": [
        "num_training_epochs = 120"
      ],
      "metadata": {
        "id": "2xspfMMTbDjH"
      },
      "execution_count": 49,
      "outputs": []
    },
    {
      "cell_type": "code",
      "source": [
        "model.to(device)\n",
        "\n",
        "best_accuracy = 0.0\n",
        "avg_validation_losses = []\n",
        "accuracies = []\n",
        "\n",
        "for epoch in range(num_training_epochs):\n",
        "  print(f'Training - epoch {epoch + 1}.')\n",
        "\n",
        "  model.train()\n",
        "  for inputs, labels in trainloader:\n",
        "    inputs, labels = inputs.to(device), labels.to(device)\n",
        "\n",
        "    optimizer.zero_grad()\n",
        "    outputs = model(inputs)\n",
        "    loss = criterion(outputs, labels)\n",
        "    loss.backward()\n",
        "    optimizer.step()\n",
        "\n",
        "  #compute avg validation loss and accuracy\n",
        "  avg_validation_loss, accuracy = compute_average_validation_loss_and_accuracy(model, testloader, criterion, device)\n",
        "  avg_validation_losses.append(avg_validation_loss)\n",
        "  accuracies.append(accuracy)\n",
        "\n",
        "  #save the model with the best accuracy\n",
        "  if accuracy > best_accuracy:\n",
        "    best_accuracy = accuracy\n",
        "    torch.save(model, './drive/My Drive/food101/best_accuracy.pt')\n",
        "\n",
        "  #save checkpoints and show statistics\n",
        "  if epoch % 3 == 0:\n",
        "    save_checkpoint_model(epoch, model.state_dict(), optimizer.state_dict(), loss, checkpoint_path)\n",
        "    show_loss_and_accuracy_details(epoch, num_training_epochs, avg_validation_loss, accuracy)"
      ],
      "metadata": {
        "colab": {
          "base_uri": "https://localhost:8080/"
        },
        "id": "v3Lu8AvBLxqX",
        "outputId": "845108aa-3302-4ef8-ff85-bb23de293402"
      },
      "execution_count": 51,
      "outputs": [
        {
          "output_type": "stream",
          "name": "stdout",
          "text": [
            "Training - epoch 1.\n",
            "Epoch [1/120], Validation Loss: 1.8584, Accuracy: 0.5703\n",
            "Training - epoch 2.\n",
            "Training - epoch 3.\n",
            "Training - epoch 4.\n",
            "Epoch [4/120], Validation Loss: 1.1397, Accuracy: 0.7130\n",
            "Training - epoch 5.\n",
            "Training - epoch 6.\n",
            "Training - epoch 7.\n",
            "Epoch [7/120], Validation Loss: 1.0020, Accuracy: 0.7386\n",
            "Training - epoch 8.\n",
            "Training - epoch 9.\n",
            "Training - epoch 10.\n",
            "Epoch [10/120], Validation Loss: 0.9970, Accuracy: 0.7388\n",
            "Training - epoch 11.\n",
            "Training - epoch 12.\n",
            "Training - epoch 13.\n",
            "Epoch [13/120], Validation Loss: 0.9537, Accuracy: 0.7491\n",
            "Training - epoch 14.\n",
            "Training - epoch 15.\n",
            "Training - epoch 16.\n",
            "Epoch [16/120], Validation Loss: 0.9342, Accuracy: 0.7570\n",
            "Training - epoch 17.\n",
            "Training - epoch 18.\n",
            "Training - epoch 19.\n",
            "Epoch [19/120], Validation Loss: 0.9354, Accuracy: 0.7568\n",
            "Training - epoch 20.\n",
            "Training - epoch 21.\n",
            "Training - epoch 22.\n",
            "Epoch [22/120], Validation Loss: 0.9249, Accuracy: 0.7606\n",
            "Training - epoch 23.\n",
            "Training - epoch 24.\n",
            "Training - epoch 25.\n",
            "Epoch [25/120], Validation Loss: 0.9215, Accuracy: 0.7625\n",
            "Training - epoch 26.\n",
            "Training - epoch 27.\n",
            "Training - epoch 28.\n",
            "Epoch [28/120], Validation Loss: 0.9353, Accuracy: 0.7636\n",
            "Training - epoch 29.\n",
            "Training - epoch 30.\n",
            "Training - epoch 31.\n",
            "Epoch [31/120], Validation Loss: 0.9490, Accuracy: 0.7582\n",
            "Training - epoch 32.\n",
            "Training - epoch 33.\n",
            "Training - epoch 34.\n",
            "Epoch [34/120], Validation Loss: 0.9399, Accuracy: 0.7621\n",
            "Training - epoch 35.\n",
            "Training - epoch 36.\n",
            "Training - epoch 37.\n",
            "Epoch [37/120], Validation Loss: 0.9546, Accuracy: 0.7579\n",
            "Training - epoch 38.\n",
            "Training - epoch 39.\n",
            "Training - epoch 40.\n",
            "Epoch [40/120], Validation Loss: 0.9433, Accuracy: 0.7649\n",
            "Training - epoch 41.\n",
            "Training - epoch 42.\n",
            "Training - epoch 43.\n",
            "Epoch [43/120], Validation Loss: 0.9610, Accuracy: 0.7621\n",
            "Training - epoch 44.\n",
            "Training - epoch 45.\n",
            "Training - epoch 46.\n",
            "Epoch [46/120], Validation Loss: 0.9682, Accuracy: 0.7610\n",
            "Training - epoch 47.\n",
            "Training - epoch 48.\n",
            "Training - epoch 49.\n",
            "Epoch [49/120], Validation Loss: 0.9590, Accuracy: 0.7656\n",
            "Training - epoch 50.\n",
            "Training - epoch 51.\n",
            "Training - epoch 52.\n",
            "Epoch [52/120], Validation Loss: 0.9372, Accuracy: 0.7701\n",
            "Training - epoch 53.\n",
            "Training - epoch 54.\n",
            "Training - epoch 55.\n",
            "Epoch [55/120], Validation Loss: 0.9628, Accuracy: 0.7655\n",
            "Training - epoch 56.\n",
            "Training - epoch 57.\n",
            "Training - epoch 58.\n",
            "Epoch [58/120], Validation Loss: 0.9602, Accuracy: 0.7697\n",
            "Training - epoch 59.\n",
            "Training - epoch 60.\n",
            "Training - epoch 61.\n",
            "Epoch [61/120], Validation Loss: 0.9940, Accuracy: 0.7636\n",
            "Training - epoch 62.\n",
            "Training - epoch 63.\n",
            "Training - epoch 64.\n",
            "Epoch [64/120], Validation Loss: 0.9811, Accuracy: 0.7666\n",
            "Training - epoch 65.\n",
            "Training - epoch 66.\n",
            "Training - epoch 67.\n",
            "Epoch [67/120], Validation Loss: 0.9853, Accuracy: 0.7650\n",
            "Training - epoch 68.\n",
            "Training - epoch 69.\n",
            "Training - epoch 70.\n",
            "Epoch [70/120], Validation Loss: 0.9802, Accuracy: 0.7678\n",
            "Training - epoch 71.\n",
            "Training - epoch 72.\n",
            "Training - epoch 73.\n",
            "Epoch [73/120], Validation Loss: 1.0187, Accuracy: 0.7656\n",
            "Training - epoch 74.\n",
            "Training - epoch 75.\n",
            "Training - epoch 76.\n",
            "Epoch [76/120], Validation Loss: 0.9777, Accuracy: 0.7669\n",
            "Training - epoch 77.\n",
            "Training - epoch 78.\n",
            "Training - epoch 79.\n",
            "Epoch [79/120], Validation Loss: 0.9743, Accuracy: 0.7707\n",
            "Training - epoch 80.\n",
            "Training - epoch 81.\n",
            "Training - epoch 82.\n",
            "Epoch [82/120], Validation Loss: 1.0232, Accuracy: 0.7683\n",
            "Training - epoch 83.\n",
            "Training - epoch 84.\n",
            "Training - epoch 85.\n",
            "Epoch [85/120], Validation Loss: 0.9847, Accuracy: 0.7648\n",
            "Training - epoch 86.\n",
            "Training - epoch 87.\n",
            "Training - epoch 88.\n",
            "Epoch [88/120], Validation Loss: 1.0017, Accuracy: 0.7664\n",
            "Training - epoch 89.\n",
            "Training - epoch 90.\n",
            "Training - epoch 91.\n",
            "Epoch [91/120], Validation Loss: 1.0117, Accuracy: 0.7681\n",
            "Training - epoch 92.\n",
            "Training - epoch 93.\n",
            "Training - epoch 94.\n",
            "Epoch [94/120], Validation Loss: 1.0078, Accuracy: 0.7712\n",
            "Training - epoch 95.\n",
            "Training - epoch 96.\n",
            "Training - epoch 97.\n",
            "Epoch [97/120], Validation Loss: 1.0123, Accuracy: 0.7660\n",
            "Training - epoch 98.\n",
            "Training - epoch 99.\n",
            "Training - epoch 100.\n",
            "Epoch [100/120], Validation Loss: 1.0114, Accuracy: 0.7665\n",
            "Training - epoch 101.\n",
            "Training - epoch 102.\n",
            "Training - epoch 103.\n",
            "Epoch [103/120], Validation Loss: 1.0479, Accuracy: 0.7642\n",
            "Training - epoch 104.\n",
            "Training - epoch 105.\n",
            "Training - epoch 106.\n",
            "Epoch [106/120], Validation Loss: 1.0213, Accuracy: 0.7684\n",
            "Training - epoch 107.\n",
            "Training - epoch 108.\n",
            "Training - epoch 109.\n",
            "Epoch [109/120], Validation Loss: 1.0216, Accuracy: 0.7645\n",
            "Training - epoch 110.\n",
            "Training - epoch 111.\n",
            "Training - epoch 112.\n",
            "Epoch [112/120], Validation Loss: 1.0187, Accuracy: 0.7668\n",
            "Training - epoch 113.\n",
            "Training - epoch 114.\n",
            "Training - epoch 115.\n",
            "Epoch [115/120], Validation Loss: 1.0249, Accuracy: 0.7699\n",
            "Training - epoch 116.\n",
            "Training - epoch 117.\n",
            "Training - epoch 118.\n",
            "Epoch [118/120], Validation Loss: 0.9984, Accuracy: 0.7745\n",
            "Training - epoch 119.\n",
            "Training - epoch 120.\n"
          ]
        }
      ]
    },
    {
      "cell_type": "code",
      "source": [
        "print(f'Best accuracy: {best_accuracy}.')"
      ],
      "metadata": {
        "colab": {
          "base_uri": "https://localhost:8080/"
        },
        "id": "I7xpeHIPQvGQ",
        "outputId": "29646746-52bf-4e0d-80e6-27132bab17c1"
      },
      "execution_count": 52,
      "outputs": [
        {
          "output_type": "stream",
          "name": "stdout",
          "text": [
            "Best accuracy: 0.7745346534653466.\n"
          ]
        }
      ]
    },
    {
      "cell_type": "code",
      "source": [
        "model.eval()\n",
        "with torch.no_grad():\n",
        "  _ , accuracy = compute_average_validation_loss_and_accuracy(model, testloader, criterion, device)\n",
        "  print(f'Accuracy of the model on the test images: {accuracy*100:.4f}')\n"
      ],
      "metadata": {
        "id": "2JXDgH7qXu1s",
        "colab": {
          "base_uri": "https://localhost:8080/"
        },
        "outputId": "0bbf47bc-d421-486c-860f-6a6257fd1b72"
      },
      "execution_count": 53,
      "outputs": [
        {
          "output_type": "stream",
          "name": "stdout",
          "text": [
            "Accuracy of the model on the test images: 77.3228\n"
          ]
        }
      ]
    },
    {
      "cell_type": "markdown",
      "source": [],
      "metadata": {
        "id": "wWT3SIGs3Ca1"
      }
    },
    {
      "cell_type": "code",
      "source": [
        "torch.save(model, './drive/My Drive/food101/food101model.pt')"
      ],
      "metadata": {
        "id": "0cSDxt_JuC08"
      },
      "execution_count": 54,
      "outputs": []
    },
    {
      "cell_type": "code",
      "source": [
        "!pip install onnx\n",
        "!pip install onnxscript"
      ],
      "metadata": {
        "colab": {
          "base_uri": "https://localhost:8080/"
        },
        "id": "tmZvYDWjf7Z8",
        "outputId": "1a2074a1-3668-4e41-d47f-565bbf9b5ffa"
      },
      "execution_count": 55,
      "outputs": [
        {
          "output_type": "stream",
          "name": "stdout",
          "text": [
            "Collecting onnx\n",
            "  Downloading onnx-1.16.0-cp310-cp310-manylinux_2_17_x86_64.manylinux2014_x86_64.whl (15.9 MB)\n",
            "\u001b[2K     \u001b[90m━━━━━━━━━━━━━━━━━━━━━━━━━━━━━━━━━━━━━━━━\u001b[0m \u001b[32m15.9/15.9 MB\u001b[0m \u001b[31m79.6 MB/s\u001b[0m eta \u001b[36m0:00:00\u001b[0m\n",
            "\u001b[?25hRequirement already satisfied: numpy>=1.20 in /usr/local/lib/python3.10/dist-packages (from onnx) (1.25.2)\n",
            "Requirement already satisfied: protobuf>=3.20.2 in /usr/local/lib/python3.10/dist-packages (from onnx) (3.20.3)\n",
            "Installing collected packages: onnx\n",
            "Successfully installed onnx-1.16.0\n",
            "Collecting onnxscript\n",
            "  Downloading onnxscript-0.1.0.dev20240413-py3-none-any.whl (582 kB)\n",
            "\u001b[2K     \u001b[90m━━━━━━━━━━━━━━━━━━━━━━━━━━━━━━━━━━━━━━━━\u001b[0m \u001b[32m582.4/582.4 kB\u001b[0m \u001b[31m11.8 MB/s\u001b[0m eta \u001b[36m0:00:00\u001b[0m\n",
            "\u001b[?25hRequirement already satisfied: numpy in /usr/local/lib/python3.10/dist-packages (from onnxscript) (1.25.2)\n",
            "Requirement already satisfied: onnx>=1.15 in /usr/local/lib/python3.10/dist-packages (from onnxscript) (1.16.0)\n",
            "Requirement already satisfied: typing-extensions in /usr/local/lib/python3.10/dist-packages (from onnxscript) (4.11.0)\n",
            "Requirement already satisfied: protobuf>=3.20.2 in /usr/local/lib/python3.10/dist-packages (from onnx>=1.15->onnxscript) (3.20.3)\n",
            "Installing collected packages: onnxscript\n",
            "Successfully installed onnxscript-0.1.0.dev20240413\n"
          ]
        }
      ]
    },
    {
      "cell_type": "code",
      "source": [
        "sample_input = torch.randn(1, 3, 224, 224).cuda()\n",
        "\n",
        "onnx_file_path = \"./drive/My Drive/food101/trained_model.onnx\"\n",
        "\n",
        "torch.onnx.export(model, sample_input, onnx_file_path)"
      ],
      "metadata": {
        "id": "ETNP3LEtgY3C"
      },
      "execution_count": 56,
      "outputs": []
    },
    {
      "cell_type": "code",
      "source": [
        "import matplotlib.pyplot as plt\n",
        "\n",
        "epochs = range(1, num_training_epochs + 1)\n",
        "plt.figure(figsize=(10, 5))\n",
        "plt.plot(epochs, avg_validation_losses, 'b', label='Loss')\n",
        "plt.plot(epochs, accuracies, 'r', label='Accuracy')\n",
        "\n",
        "plt.xlabel('Epochs')\n",
        "plt.ylabel('Value')\n",
        "plt.legend()\n",
        "plt.grid(True)\n",
        "plt.show()"
      ],
      "metadata": {
        "colab": {
          "base_uri": "https://localhost:8080/",
          "height": 465
        },
        "id": "mnMTe28VLcyv",
        "outputId": "70d71207-b732-4d6b-dcc0-0d54f3ee5602"
      },
      "execution_count": 61,
      "outputs": [
        {
          "output_type": "display_data",
          "data": {
            "text/plain": [
              "<Figure size 1000x500 with 1 Axes>"
            ],
            "image/png": "[encoded data removed]"
          },
          "metadata": {}
        }
      ]
    }
  ]
}